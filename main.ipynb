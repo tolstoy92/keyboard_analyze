{
 "cells": [
  {
   "cell_type": "code",
   "execution_count": 1,
   "id": "7af67f9f-c881-4697-bc22-56693e1c3083",
   "metadata": {},
   "outputs": [],
   "source": [
    "import numpy as np\n",
    "import pandas as pd\n",
    "import datetime"
   ]
  },
  {
   "cell_type": "code",
   "execution_count": 2,
   "id": "c9f25e53-4f3a-487e-a8dd-009f517ea951",
   "metadata": {},
   "outputs": [],
   "source": [
    "source_name = './data/full_keyboard_data.csv'\n",
    "df = pd.read_csv(source_name)"
   ]
  },
  {
   "cell_type": "code",
   "execution_count": 4,
   "id": "3aeca7bb-3617-4c7b-8a62-9e36be8784e4",
   "metadata": {},
   "outputs": [],
   "source": [
    "test_user_df = df[df['user_id'] == 10]"
   ]
  },
  {
   "cell_type": "code",
   "execution_count": 34,
   "id": "247890cb-b943-4d94-9f74-37fd97cb0357",
   "metadata": {},
   "outputs": [],
   "source": [
    "now = datetime.datetime.now()"
   ]
  },
  {
   "cell_type": "code",
   "execution_count": 36,
   "id": "b4d33d43-1d30-4447-84c3-bbaf67499004",
   "metadata": {},
   "outputs": [],
   "source": [
    "parts = generate_parts(now, 30)"
   ]
  },
  {
   "cell_type": "code",
   "execution_count": 37,
   "id": "86416024-55e4-4bb9-91c9-75fbdbe39618",
   "metadata": {},
   "outputs": [
    {
     "name": "stdout",
     "output_type": "stream",
     "text": [
      "1   2021-05-28 10:00:00\n",
      "2   2021-05-28 10:30:00\n",
      "3   2021-05-28 11:00:00\n",
      "4   2021-05-28 11:30:00\n",
      "5   2021-05-28 12:00:00\n",
      "6   2021-05-28 12:30:00\n",
      "7   2021-05-28 13:00:00\n",
      "8   2021-05-28 13:30:00\n",
      "9   2021-05-28 14:00:00\n",
      "10   2021-05-28 14:30:00\n",
      "11   2021-05-28 15:00:00\n",
      "12   2021-05-28 15:30:00\n",
      "13   2021-05-28 16:00:00\n",
      "14   2021-05-28 16:30:00\n",
      "15   2021-05-28 17:00:00\n",
      "16   2021-05-28 17:30:00\n",
      "17   2021-05-28 18:00:00\n"
     ]
    }
   ],
   "source": [
    "for i, part in enumerate(parts):\n",
    "    print(i+1, ' ', part)"
   ]
  },
  {
   "cell_type": "code",
   "execution_count": 29,
   "id": "a82208a3-a88a-4020-881b-2f000ade6c50",
   "metadata": {},
   "outputs": [],
   "source": [
    "def to_time(date_time, h, m):\n",
    "    new_date_time = date_time.replace(hour=h, minute=m, second=0, microsecond=0)\n",
    "    return new_date_time\n",
    "\n",
    "\n",
    "def generate_parts(date_time, step):\n",
    "    last_time = to_time(date_time, 18, 0)\n",
    "    parts = [to_time(date_time, 10, 0)]\n",
    "    while parts[-1] < last_time:\n",
    "        new_date_time = parts[-1] + datetime.timedelta(seconds=60 * step)\n",
    "        parts.append(new_date_time)\n",
    "    return parts    \n",
    "\n",
    "def get_part_idx(date_time, time_step):\n",
    "    parts = generate_parts(date_time, time_step)\n",
    "    for idx in range(len(parts)-1):\n",
    "        if parts[idx] <= date_time < parts[idx+1]:\n",
    "            return idx\n",
    "    if date_time < parts[0]:\n",
    "        return 0\n",
    "    if date_time > parts[-1]:\n",
    "        return len(parts) - 1\n",
    "\n",
    "    \n",
    "def proc_df(df):\n",
    "    df = df.copy()\n",
    "    df.pop('Unnamed: 0')\n",
    "    df.pop('Unnamed: 0.1')\n",
    "    try:\n",
    "        df['start_typing_time'] = pd.to_datetime(df['start_typing_time'])\n",
    "    except:\n",
    "        df['start_typing_time'] = df['start_typing_time'].map(lambda x: x.replace('_', ' '))\n",
    "        df['start_typing_time'] = df['start_typing_time'].map(lambda x: x.split('+')[0])\n",
    "        df['start_typing_time'] = pd.to_datetime(df['start_typing_time'])\n",
    "        \n",
    "    try:\n",
    "        df['end_typing_time'] = pd.to_datetime(df['end_typing_time'])\n",
    "    except:\n",
    "        df['end_typing_time'] = df['end_typing_time'].map(lambda x: x.replace('_', ' '))\n",
    "        df['end_typing_time'] = df['end_typing_time'].map(lambda x: x.split('+')[0])\n",
    "        df['end_typing_time'] = pd.to_datetime(df['end_typing_time'])        \n",
    "        \n",
    "    df['date'] = df['start_typing_time'].map(lambda x: x.date())\n",
    "    df['day'] = df['start_typing_time'].map(lambda x: x.day)\n",
    "    df['month'] = df['start_typing_time'].map(lambda x: x.month)\n",
    "    df['session_duration'] = df['end_typing_time'] - df['start_typing_time']\n",
    "    df['session_duration'] = df['session_duration'].map(lambda x: x.total_seconds())\n",
    "    df['part_of_day'] = df['start_typing_time'].map(lambda x: get_part_idx(x, 30))\n",
    "    df = df.sort_values(['month', 'day', 'start_typing_time'])\n",
    "    df = df[df['session_duration'] > 0]\n",
    "    \n",
    "    diff_names = [\n",
    "        'speed',\n",
    "        'overlaps',\n",
    "        'holding_time',\n",
    "        'errors',\n",
    "        'capital_symbols'\n",
    "    ]\n",
    "    d_diff_names = [f'd_{name}' for name in diff_names]\n",
    "    dd_diff_names = [f'd_d_{name}' for name in diff_names]\n",
    "\n",
    "    for name, new_col_name in zip(diff_names, d_diff_names):\n",
    "        df[new_col_name] = 0.\n",
    "\n",
    "        for date in df['date'].unique():\n",
    "            df.loc[(df['date'] == date), new_col_name] = df[df['date'] == date][name].diff()\n",
    "\n",
    "    for name, dd_name in zip(d_diff_names, dd_diff_names):\n",
    "        df[dd_name] = 0.\n",
    "\n",
    "        for date in df['date'].unique():\n",
    "            df.loc[(df['date'] == date), dd_name] = df[df['date'] == date][name].diff()\n",
    "    \n",
    "    full_names = diff_names + d_diff_names + dd_diff_names\n",
    "    \n",
    "    for date in df['date'].unique():\n",
    "        for part_of_day in df['part_of_day'].unique():\n",
    "            for name in full_names:\n",
    "                df.loc[(df['date'] == date) & (df['part_of_day'] == part_of_day), f'std_{name}'] = \\\n",
    "                    df.loc[(df['date'] == date) & (df['part_of_day'] == part_of_day)][name].std()                \n",
    "            \n",
    "                df.loc[(df['date'] == date) & (df['part_of_day'] == part_of_day), f'mean_{name}'] = \\\n",
    "                    df.loc[(df['date'] == date) & (df['part_of_day'] == part_of_day)][name].mean()                \n",
    "\n",
    "                df.loc[(df['date'] == date) & (df['part_of_day'] == part_of_day), f'q25_{name}'] = \\\n",
    "                    df.loc[(df['date'] == date) & (df['part_of_day'] == part_of_day)][name].quantile(0.25)\n",
    "\n",
    "                df.loc[(df['date'] == date) & (df['part_of_day'] == part_of_day), f'q50_{name}'] = \\\n",
    "                    df.loc[(df['date'] == date) & (df['part_of_day'] == part_of_day)][name].quantile(0.50)\n",
    "\n",
    "                df.loc[(df['date'] == date) & (df['part_of_day'] == part_of_day), f'q75_{name}'] = \\\n",
    "                    df.loc[(df['date'] == date) & (df['part_of_day'] == part_of_day)][name].quantile(0.75)\n",
    "    return df\n",
    "            "
   ]
  },
  {
   "cell_type": "code",
   "execution_count": 23,
   "id": "62a43d38-f3c7-4b18-9dbf-b50b06637265",
   "metadata": {},
   "outputs": [],
   "source": [
    "proced_df = proc_df(test_user_df)"
   ]
  },
  {
   "cell_type": "code",
   "execution_count": 30,
   "id": "4f6985bf-0c63-4fa6-b6c8-c3b84c807aac",
   "metadata": {},
   "outputs": [],
   "source": [
    "for user_id in df['user_id'].unique():\n",
    "    target_user_df = df[df['user_id'] == user_id]\n",
    "    proced_target_df = proc_df(target_user_df)\n",
    "    proced_target_df.to_csv(f'user_{user_id}_keyboard_stats.csv')"
   ]
  }
 ],
 "metadata": {
  "kernelspec": {
   "display_name": "keyboard_env",
   "language": "python",
   "name": "keyboard_env"
  },
  "language_info": {
   "codemirror_mode": {
    "name": "ipython",
    "version": 3
   },
   "file_extension": ".py",
   "mimetype": "text/x-python",
   "name": "python",
   "nbconvert_exporter": "python",
   "pygments_lexer": "ipython3",
   "version": "3.9.5"
  }
 },
 "nbformat": 4,
 "nbformat_minor": 5
}
