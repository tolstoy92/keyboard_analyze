{
 "cells": [
  {
   "cell_type": "code",
   "execution_count": 1,
   "id": "1e5e18ff-12b9-4206-8239-7ce03c6d2590",
   "metadata": {},
   "outputs": [],
   "source": [
    "import pandas as pd"
   ]
  },
  {
   "cell_type": "code",
   "execution_count": 55,
   "id": "3713a3ed-9512-4033-abbc-0feadd1aa2b0",
   "metadata": {},
   "outputs": [],
   "source": [
    "def data_to_dict(data):\n",
    "    start, end, speed, overlaps, dynamic, errors, capital = data\n",
    "    result = {\n",
    "        \"start_typing_time\": start,\n",
    "        \"end_typing_time\": end,\n",
    "        \"speed\": float(speed),\n",
    "        \"overlaps\": int(overlaps),\n",
    "        \"holding_time\": float(dynamic),\n",
    "        \"errors\": int(errors),\n",
    "        \"capital_symbols\": int(capital)\n",
    "    }\n",
    "    return result\n",
    "\n",
    "\n",
    "def txt_to_global_dict(global_dict, path_to_txt, user_id):\n",
    "    with open(path_to_txt, 'r') as txt:\n",
    "        for line in txt:\n",
    "            data = line.split(' ')\n",
    "            data = data_to_dict(data)\n",
    "            for key, value in data.items():\n",
    "                global_dict[key].append(value)\n",
    "            global_dict['user_id'].append(user_id)\n",
    "    return global_dict\n",
    "\n",
    "\n",
    "def get_global_dict():\n",
    "    global_dict = {\n",
    "        \"start_typing_time\": [],\n",
    "        \"end_typing_time\": [],\n",
    "        \"speed\": [],\n",
    "        \"overlaps\": [],\n",
    "        \"holding_time\": [],\n",
    "        \"errors\": [],\n",
    "        \"capital_symbols\": [],\n",
    "        \"user_id\": []\n",
    "    }\n",
    "    return dict(global_dict)\n",
    "\n",
    "\n",
    "def dict_to_df(data_dict):\n",
    "    df = pd.DataFrame(data_dict)\n",
    "    return df"
   ]
  },
  {
   "cell_type": "code",
   "execution_count": 58,
   "id": "c8955a0d-c326-4bcb-aadf-27433fa630d1",
   "metadata": {},
   "outputs": [],
   "source": [
    "import os\n",
    "\n",
    "\n",
    "df_list = []\n",
    "\n",
    "txt_data_path = './data/txt_data'\n",
    "for dir_name in os.listdir(txt_data_path):\n",
    "    global_dict = get_global_dict()\n",
    "    user_id = int(dir_name)\n",
    "    path_to_keyboard_data = os.path.join(txt_data_path, dir_name, 'keyboard')\n",
    "    for fname in os.listdir(path_to_keyboard_data):\n",
    "        if not fname.endswith(\"txt\"):\n",
    "            continue\n",
    "        path_to_file = os.path.join(path_to_keyboard_data, fname)\n",
    "        global_dict = txt_to_global_dict(global_dict, path_to_file, user_id)\n",
    "        df = dict_to_df(global_dict)\n",
    "    df_list.append(df)"
   ]
  },
  {
   "cell_type": "code",
   "execution_count": 64,
   "id": "5118c15c-82db-4bb3-acdb-b5b68f110ed7",
   "metadata": {},
   "outputs": [],
   "source": [
    "merged_df = pd.concat(df_list)"
   ]
  },
  {
   "cell_type": "code",
   "execution_count": 65,
   "id": "544b59d0-5495-4963-b76d-eae71c444e23",
   "metadata": {},
   "outputs": [
    {
     "name": "stdout",
     "output_type": "stream",
     "text": [
      "<class 'pandas.core.frame.DataFrame'>\n",
      "Int64Index: 7779 entries, 0 to 1437\n",
      "Data columns (total 8 columns):\n",
      " #   Column             Non-Null Count  Dtype  \n",
      "---  ------             --------------  -----  \n",
      " 0   start_typing_time  7779 non-null   object \n",
      " 1   end_typing_time    7779 non-null   object \n",
      " 2   speed              7779 non-null   float64\n",
      " 3   overlaps           7779 non-null   int64  \n",
      " 4   holding_time       7779 non-null   float64\n",
      " 5   errors             7779 non-null   int64  \n",
      " 6   capital_symbols    7779 non-null   int64  \n",
      " 7   user_id            7779 non-null   int64  \n",
      "dtypes: float64(2), int64(4), object(2)\n",
      "memory usage: 547.0+ KB\n"
     ]
    }
   ],
   "source": [
    "merged_df.info()"
   ]
  },
  {
   "cell_type": "code",
   "execution_count": 66,
   "id": "04affb48-99ac-4851-8f55-2f5d752d0b58",
   "metadata": {},
   "outputs": [],
   "source": [
    "original_file = './data/keyboard_data.csv'\n",
    "main_df = pd.read_csv(original_file)"
   ]
  },
  {
   "cell_type": "code",
   "execution_count": 67,
   "id": "ab57faa4-fa69-4cdf-9618-a119e35d74c2",
   "metadata": {},
   "outputs": [],
   "source": [
    "full_df = pd.concat([main_df, merged_df])"
   ]
  },
  {
   "cell_type": "code",
   "execution_count": 68,
   "id": "33274d0f-c584-420c-bc9f-962b9fe01767",
   "metadata": {},
   "outputs": [
    {
     "name": "stdout",
     "output_type": "stream",
     "text": [
      "<class 'pandas.core.frame.DataFrame'>\n",
      "Int64Index: 27420 entries, 0 to 1437\n",
      "Data columns (total 9 columns):\n",
      " #   Column             Non-Null Count  Dtype  \n",
      "---  ------             --------------  -----  \n",
      " 0   Unnamed: 0         19641 non-null  float64\n",
      " 1   start_typing_time  27420 non-null  object \n",
      " 2   end_typing_time    27420 non-null  object \n",
      " 3   speed              27420 non-null  float64\n",
      " 4   overlaps           27420 non-null  int64  \n",
      " 5   holding_time       27420 non-null  float64\n",
      " 6   errors             27420 non-null  int64  \n",
      " 7   capital_symbols    27420 non-null  int64  \n",
      " 8   user_id            27420 non-null  int64  \n",
      "dtypes: float64(3), int64(4), object(2)\n",
      "memory usage: 2.1+ MB\n"
     ]
    }
   ],
   "source": [
    "full_df.info()"
   ]
  },
  {
   "cell_type": "code",
   "execution_count": 69,
   "id": "70360636-90de-4ab9-b4ce-af0cf7d86646",
   "metadata": {},
   "outputs": [],
   "source": [
    "full_df.to_csv('full_keyboard_data.csv')"
   ]
  }
 ],
 "metadata": {
  "kernelspec": {
   "display_name": "keyboard_env",
   "language": "python",
   "name": "keyboard_env"
  },
  "language_info": {
   "codemirror_mode": {
    "name": "ipython",
    "version": 3
   },
   "file_extension": ".py",
   "mimetype": "text/x-python",
   "name": "python",
   "nbconvert_exporter": "python",
   "pygments_lexer": "ipython3",
   "version": "3.9.5"
  }
 },
 "nbformat": 4,
 "nbformat_minor": 5
}
